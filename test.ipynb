{
 "cells": [
  {
   "cell_type": "code",
   "execution_count": 50,
   "metadata": {
    "collapsed": true
   },
   "outputs": [],
   "source": [
    "# Import\n",
    "import  pandas as pd\n",
    "import datetime"
   ]
  },
  {
   "cell_type": "code",
   "execution_count": 62,
   "outputs": [
    {
     "name": "stdout",
     "output_type": "stream",
     "text": [
      "Index(['shopping_center_id', 'device_hash_id'], dtype='object')\n"
     ]
    }
   ],
   "source": [
    "# Loading data\n",
    "df = pd.read_csv('resources/data.csv', sep=',', parse_dates=['device_local_date'])\n",
    "df = df.set_index(['device_local_date'])\n",
    "print(df.keys())"
   ],
   "metadata": {
    "collapsed": false,
    "pycharm": {
     "name": "#%%\n"
    }
   }
  },
  {
   "cell_type": "code",
   "execution_count": 92,
   "outputs": [
    {
     "name": "stdout",
     "output_type": "stream",
     "text": [
      "device_local_date  device_local_date    shopping_center_id                  \n",
      "0                  2019-09-02 02:18:00  599cb959-11ef-49aa-9eb3-e6c17b4ea6ba    1\n",
      "                   2019-09-02 02:28:00  599cb959-11ef-49aa-9eb3-e6c17b4ea6ba    1\n",
      "                   2019-09-02 02:38:00  599cb959-11ef-49aa-9eb3-e6c17b4ea6ba    1\n",
      "                   2019-09-02 02:41:00  599cb959-11ef-49aa-9eb3-e6c17b4ea6ba    1\n",
      "                   2019-09-02 02:51:00  599cb959-11ef-49aa-9eb3-e6c17b4ea6ba    1\n",
      "                                                                               ..\n",
      "6                  2019-09-15 20:54:00  599cb959-11ef-49aa-9eb3-e6c17b4ea6ba    1\n",
      "                   2019-09-15 21:20:00  599cb959-11ef-49aa-9eb3-e6c17b4ea6ba    2\n",
      "                   2019-09-15 21:21:00  599cb959-11ef-49aa-9eb3-e6c17b4ea6ba    2\n",
      "                   2019-09-15 21:31:00  599cb959-11ef-49aa-9eb3-e6c17b4ea6ba    1\n",
      "                   2019-09-15 22:58:00  cb2d5bb6-c372-4a51-8231-4ffa288a0c28    1\n",
      "Name: device_hash_id, Length: 33787, dtype: int64\n"
     ]
    }
   ],
   "source": [
    "# Group data by shopping center id, weekday and frequency of one minute\n",
    "week_group = df.groupby([df.index.weekday, pd.Grouper(freq=\"60S\"), 'shopping_center_id'])\n",
    "for name, group in week_group:\n",
    "    print(name)\n",
    "    print(group)"
   ],
   "metadata": {
    "collapsed": false,
    "pycharm": {
     "name": "#%%\n"
    }
   }
  },
  {
   "cell_type": "code",
   "execution_count": null,
   "outputs": [],
   "source": [
    "# Count number of dvice per group\n",
    "number_of_device_per_group = week_group['device_hash_id'].count()\n",
    "print(number_of_device_per_group)"
   ],
   "metadata": {
    "collapsed": false,
    "pycharm": {
     "name": "#%%\n"
    }
   }
  },
  {
   "cell_type": "code",
   "execution_count": null,
   "outputs": [],
   "source": [
    "#TODO : Plot per shopping center and per a day of a week\n"
   ],
   "metadata": {
    "collapsed": false,
    "pycharm": {
     "name": "#%%\n"
    }
   }
  },
  {
   "cell_type": "code",
   "execution_count": null,
   "outputs": [],
   "source": [
    "df['date'] = pd.to_datetime(df['device_local_date'].dt.date)\n",
    "date = str(datetime.datetime.strptime('2022-03-05', '%Y-%m-%d').date())\n",
    "df['time'] = pd.to_datetime(date + \" \" + df['device_local_date'].dt.time.astype(str))\n",
    "df['weekday'] = df['device_local_date'].dt.weekday\n",
    "df.set_index('time')"
   ],
   "metadata": {
    "collapsed": false,
    "pycharm": {
     "name": "#%%\n"
    }
   }
  },
  {
   "cell_type": "code",
   "execution_count": 21,
   "outputs": [
    {
     "data": {
      "text/plain": "device_hash_id  weekday\n0.00E+00        4         2019-09-13 19:34:27\n000a7a5fe9      4         2019-09-06 18:17:50\n                5         2019-09-07 16:56:41\n000d783b1a      1         2019-09-17 20:59:18\n0016ad7e8f      5         2019-09-07 15:33:35\n                                  ...        \nffe0f766cb      1         2019-09-03 16:13:53\n                4         2019-09-13 19:48:24\nffe5628a16      5         2019-09-14 12:43:39\nfff2d6eaa9      4         2019-09-13 18:58:43\n                5         2019-09-14 19:10:46\nName: device_local_date, Length: 7862, dtype: datetime64[ns]"
     },
     "execution_count": 21,
     "metadata": {},
     "output_type": "execute_result"
    }
   ],
   "source": [
    "#\n",
    "df.sort_values(['device_local_date']).groupby(['device_hash_id', 'weekday'])['device_local_date'].last()"
   ],
   "metadata": {
    "collapsed": false,
    "pycharm": {
     "name": "#%%\n"
    }
   }
  },
  {
   "cell_type": "code",
   "execution_count": 46,
   "outputs": [],
   "source": [
    "df_monday = df[df['weekday']==0]"
   ],
   "metadata": {
    "collapsed": false,
    "pycharm": {
     "name": "#%%\n"
    }
   }
  },
  {
   "cell_type": "code",
   "execution_count": 49,
   "outputs": [
    {
     "data": {
      "text/plain": "<AxesSubplot:xlabel='device_hash_id'>"
     },
     "execution_count": 49,
     "metadata": {},
     "output_type": "execute_result"
    },
    {
     "data": {
      "text/plain": "<Figure size 432x288 with 1 Axes>",
      "image/png": "[encoded data removed]"
     },
     "metadata": {
      "needs_background": "light"
     },
     "output_type": "display_data"
    }
   ],
   "source": [
    "#\n",
    "df_monday.sort_values(['device_local_date']).groupby(['device_hash_id'])['time'].first().plot()"
   ],
   "metadata": {
    "collapsed": false,
    "pycharm": {
     "name": "#%%\n"
    }
   }
  },
  {
   "cell_type": "code",
   "execution_count": 48,
   "outputs": [
    {
     "data": {
      "text/plain": "weekday\n0    [0]\n1    [1]\n2    [2]\n3    [3]\n4    [4]\n5    [5]\n6    [6]\nName: weekday, dtype: object"
     },
     "execution_count": 48,
     "metadata": {},
     "output_type": "execute_result"
    }
   ],
   "source": [
    "df.sort_values(['device_local_date']).groupby(['weekday'])['weekday'].unique()"
   ],
   "metadata": {
    "collapsed": false,
    "pycharm": {
     "name": "#%%\n"
    }
   }
  },
  {
   "cell_type": "code",
   "execution_count": 40,
   "outputs": [
    {
     "ename": "AttributeError",
     "evalue": "'Series' object has no attribute 'now'",
     "output_type": "error",
     "traceback": [
      "\u001B[0;31m---------------------------------------------------------------------------\u001B[0m",
      "\u001B[0;31mAttributeError\u001B[0m                            Traceback (most recent call last)",
      "Input \u001B[0;32mIn [40]\u001B[0m, in \u001B[0;36m<cell line: 1>\u001B[0;34m()\u001B[0m\n\u001B[0;32m----> 1\u001B[0m now \u001B[38;5;241m=\u001B[39m \u001B[43mdf\u001B[49m\u001B[43m[\u001B[49m\u001B[38;5;124;43m'\u001B[39;49m\u001B[38;5;124;43mdevice_local_date\u001B[39;49m\u001B[38;5;124;43m'\u001B[39;49m\u001B[43m]\u001B[49m\u001B[38;5;241;43m.\u001B[39;49m\u001B[43mnow\u001B[49m()\n",
      "File \u001B[0;32m~/PycharmProjects/myTrafficTest/venv/lib/python3.9/site-packages/pandas/core/generic.py:5583\u001B[0m, in \u001B[0;36mNDFrame.__getattr__\u001B[0;34m(self, name)\u001B[0m\n\u001B[1;32m   5576\u001B[0m \u001B[38;5;28;01mif\u001B[39;00m (\n\u001B[1;32m   5577\u001B[0m     name \u001B[38;5;129;01mnot\u001B[39;00m \u001B[38;5;129;01min\u001B[39;00m \u001B[38;5;28mself\u001B[39m\u001B[38;5;241m.\u001B[39m_internal_names_set\n\u001B[1;32m   5578\u001B[0m     \u001B[38;5;129;01mand\u001B[39;00m name \u001B[38;5;129;01mnot\u001B[39;00m \u001B[38;5;129;01min\u001B[39;00m \u001B[38;5;28mself\u001B[39m\u001B[38;5;241m.\u001B[39m_metadata\n\u001B[1;32m   5579\u001B[0m     \u001B[38;5;129;01mand\u001B[39;00m name \u001B[38;5;129;01mnot\u001B[39;00m \u001B[38;5;129;01min\u001B[39;00m \u001B[38;5;28mself\u001B[39m\u001B[38;5;241m.\u001B[39m_accessors\n\u001B[1;32m   5580\u001B[0m     \u001B[38;5;129;01mand\u001B[39;00m \u001B[38;5;28mself\u001B[39m\u001B[38;5;241m.\u001B[39m_info_axis\u001B[38;5;241m.\u001B[39m_can_hold_identifiers_and_holds_name(name)\n\u001B[1;32m   5581\u001B[0m ):\n\u001B[1;32m   5582\u001B[0m     \u001B[38;5;28;01mreturn\u001B[39;00m \u001B[38;5;28mself\u001B[39m[name]\n\u001B[0;32m-> 5583\u001B[0m \u001B[38;5;28;01mreturn\u001B[39;00m \u001B[38;5;28;43mobject\u001B[39;49m\u001B[38;5;241;43m.\u001B[39;49m\u001B[38;5;21;43m__getattribute__\u001B[39;49m\u001B[43m(\u001B[49m\u001B[38;5;28;43mself\u001B[39;49m\u001B[43m,\u001B[49m\u001B[43m \u001B[49m\u001B[43mname\u001B[49m\u001B[43m)\u001B[49m\n",
      "\u001B[0;31mAttributeError\u001B[0m: 'Series' object has no attribute 'now'"
     ]
    }
   ],
   "source": [
    "now = df['device_local_date'].now()"
   ],
   "metadata": {
    "collapsed": false,
    "pycharm": {
     "name": "#%%\n"
    }
   }
  },
  {
   "cell_type": "code",
   "execution_count": null,
   "outputs": [],
   "source": [],
   "metadata": {
    "collapsed": false,
    "pycharm": {
     "name": "#%%\n"
    }
   }
  }
 ],
 "metadata": {
  "kernelspec": {
   "display_name": "Python 3",
   "language": "python",
   "name": "python3"
  },
  "language_info": {
   "codemirror_mode": {
    "name": "ipython",
    "version": 2
   },
   "file_extension": ".py",
   "mimetype": "text/x-python",
   "name": "python",
   "nbconvert_exporter": "python",
   "pygments_lexer": "ipython2",
   "version": "2.7.6"
  }
 },
 "nbformat": 4,
 "nbformat_minor": 0
}